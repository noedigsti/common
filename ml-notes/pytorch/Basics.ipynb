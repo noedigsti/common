{
 "cells": [
  {
   "cell_type": "code",
   "execution_count": 1,
   "id": "01f16a4d",
   "metadata": {},
   "outputs": [],
   "source": [
    "import torch\n",
    "import numpy as np"
   ]
  },
  {
   "cell_type": "code",
   "execution_count": 22,
   "id": "4d6c769d",
   "metadata": {},
   "outputs": [],
   "source": [
    "import matplotlib.pyplot as plt"
   ]
  },
  {
   "attachments": {},
   "cell_type": "markdown",
   "id": "5bb795c8",
   "metadata": {},
   "source": [
    "==============================================================================\n",
    "\n",
    "__Commonly used functions and operations\n",
    "\n",
    "=============================================================================="
   ]
  },
  {
   "cell_type": "code",
   "execution_count": 8,
   "id": "f43b78f6",
   "metadata": {},
   "outputs": [
    {
     "data": {
      "text/plain": [
       "True"
      ]
     },
     "execution_count": 8,
     "metadata": {},
     "output_type": "execute_result"
    }
   ],
   "source": [
    "# Check for GPU availability\n",
    "torch.cuda.is_available()"
   ]
  },
  {
   "attachments": {},
   "cell_type": "markdown",
   "id": "beddcfc4",
   "metadata": {},
   "source": [
    "==============================================================================\n",
    "\n",
    "__Basic tensor manipulations\n",
    "\n",
    "https://pytorch.org/tutorials/beginner/introyt/tensors_deeper_tutorial.html\n",
    "\n",
    "=============================================================================="
   ]
  },
  {
   "cell_type": "code",
   "execution_count": 130,
   "id": "629a500a",
   "metadata": {},
   "outputs": [
    {
     "name": "stdout",
     "output_type": "stream",
     "text": [
      "Inline data = [[1, 2, 3], [4, 5, 6], [7, 8, 9]]\n",
      "NumPy data = [[1. 1. 1.]\n",
      " [1. 1. 1.]\n",
      " [1. 1. 1.]]\n",
      "NumPy data = [[2. 2. 2.]\n",
      " [2. 2. 2.]\n",
      " [2. 2. 2.]]\n"
     ]
    }
   ],
   "source": [
    "# Example\n",
    "data = [[1, 2, 3], [4, 5, 6], [7, 8, 9]]\n",
    "print(f\"Inline data = {data}\")\n",
    "np_data = np.ones((3,3)) # NumPy\n",
    "print(f\"NumPy data = {np_data}\")\n",
    "np.add(np_data, 1, out=np_data)\n",
    "print(f\"NumPy data = {np_data}\")"
   ]
  },
  {
   "cell_type": "code",
   "execution_count": 127,
   "id": "063b2117",
   "metadata": {},
   "outputs": [
    {
     "name": "stdout",
     "output_type": "stream",
     "text": [
      "tensor([[1, 2, 3],\n",
      "        [4, 5, 6],\n",
      "        [7, 8, 9]]) torch.Size([3, 3])\n",
      "tensor([[2., 2., 2.],\n",
      "        [2., 2., 2.],\n",
      "        [2., 2., 2.]], dtype=torch.float64)\n"
     ]
    }
   ],
   "source": [
    "# Assigning data to a tensor\n",
    "tensor_a = torch.tensor(data)\n",
    "print(tensor_a, tensor_a.shape)\n",
    "tensor_a_from_np = torch.from_numpy(np_data)\n",
    "print(tensor_a_from_np)"
   ]
  },
  {
   "cell_type": "code",
   "execution_count": 29,
   "id": "75db9366",
   "metadata": {},
   "outputs": [
    {
     "name": "stdout",
     "output_type": "stream",
     "text": [
      "Random Tensor: \n",
      " tensor([[0.2929, 0.7580, 0.5592],\n",
      "        [0.8401, 0.8230, 0.6283]]) \n",
      "\n",
      "Ones Tensor: \n",
      " tensor([[1., 1., 1.],\n",
      "        [1., 1., 1.]]) \n",
      "\n",
      "Ones Like Tensor: \n",
      " tensor([[1, 1, 1],\n",
      "        [1, 1, 1]]) \n",
      "\n",
      "Zeros Tensor: \n",
      " tensor([[0., 0., 0.],\n",
      "        [0., 0., 0.]])\n",
      "Zeroes Like Tensor: \n",
      " tensor([[0, 0, 0],\n",
      "        [0, 0, 0]]) \n",
      "\n"
     ]
    }
   ],
   "source": [
    "# Create a random tensor with uniform distribution of the x_data's shape\n",
    "rand_tensor = torch.rand(tensor_a.shape)\n",
    "\n",
    "# Create a tensor of ones of the x_data's shape\n",
    "ones_tensor = torch.ones(tensor_a.shape)\n",
    "\n",
    "# Create a tensor of ones with the tensor x_data\n",
    "ones_like = torch.ones_like(tensor_a)\n",
    "\n",
    "# Create a tensor of zeroes of the x_data shape\n",
    "zeros_tensor = torch.zeros(tensor_a.shape)\n",
    "\n",
    "# Create a tensor of zeroes with the tensor x_data\n",
    "zeros_like = torch.zeros_like(tensor_a)\n",
    "\n",
    "print(f\"Random Tensor: \\n {rand_tensor} \\n\")\n",
    "print(f\"Ones Tensor: \\n {ones_tensor} \\n\")\n",
    "print(f\"Ones Like Tensor: \\n {ones_like} \\n\")\n",
    "print(f\"Zeros Tensor: \\n {zeros_tensor}\")\n",
    "print(f\"Zeroes Like Tensor: \\n {zeros_like} \\n\")"
   ]
  },
  {
   "cell_type": "code",
   "execution_count": 27,
   "id": "051be3ac",
   "metadata": {},
   "outputs": [
    {
     "name": "stdout",
     "output_type": "stream",
     "text": [
      "Shape of tensor: torch.Size([3, 4])\n",
      "Datatype of tensor: torch.float32\n",
      "Device tensor is stored on: cuda:0\n"
     ]
    }
   ],
   "source": [
    "# Moving tensors to a GPU\n",
    "tensor = torch.rand((3,4), device=\"cuda\")\n",
    "if torch.cuda.is_available():\n",
    "    tensor.to('cuda')\n",
    "\n",
    "# Attributes of a tensor: shape, dtype, device\n",
    "print(f\"Shape of tensor: {tensor.shape}\")\n",
    "print(f\"Datatype of tensor: {tensor.dtype}\")\n",
    "print(f\"Device tensor is stored on: {tensor.device}\")"
   ]
  },
  {
   "cell_type": "code",
   "execution_count": 36,
   "id": "41e7ea76",
   "metadata": {},
   "outputs": [
    {
     "name": "stdout",
     "output_type": "stream",
     "text": [
      "First row: tensor([1., 1., 1., 1.])\n",
      "First column: tensor([1., 1., 1., 1.])\n",
      "Last column: tensor([1., 1., 1., 1.])\n",
      "tensor([[1., 0., 1., 1.],\n",
      "        [1., 0., 1., 1.],\n",
      "        [1., 0., 1., 1.],\n",
      "        [1., 0., 1., 1.]])\n"
     ]
    }
   ],
   "source": [
    "# Indexing and Slicing\n",
    "tensor = torch.ones(4, 4)\n",
    "print(f\"First row: {tensor[0]}\")\n",
    "print(f\"First column: {tensor[:, 0]}\")\n",
    "print(f\"Last column: {tensor[..., -1]}\")\n",
    "tensor[:,1] = 0\n",
    "print(tensor)"
   ]
  },
  {
   "cell_type": "code",
   "execution_count": 67,
   "id": "b027bfc5",
   "metadata": {},
   "outputs": [
    {
     "name": "stdout",
     "output_type": "stream",
     "text": [
      "(tensor([[1., 1., 1.],\n",
      "        [1., 1., 1.],\n",
      "        [1., 1., 1.]]), torch.Size([3, 3]))\n",
      "(tensor([[2., 2., 2.],\n",
      "        [2., 2., 2.],\n",
      "        [2., 2., 2.]]), torch.Size([3, 3]))\n",
      "Joined on dim=0 (or add into rows):\n",
      "tensor([[1., 1., 1.],\n",
      "        [1., 1., 1.],\n",
      "        [1., 1., 1.],\n",
      "        [2., 2., 2.],\n",
      "        [2., 2., 2.],\n",
      "        [2., 2., 2.]]) torch.Size([6, 3])\n",
      "Joined on dim=1 (or add into columns):\n",
      "tensor([[1., 1., 1., 2., 2., 2.],\n",
      "        [1., 1., 1., 2., 2., 2.],\n",
      "        [1., 1., 1., 2., 2., 2.]]) torch.Size([3, 6])\n"
     ]
    }
   ],
   "source": [
    "# Joining tensors\n",
    "tensor_a = torch.ones(3,3)\n",
    "tensor_b = torch.ones(3,3) + torch.ones(1)\n",
    "print(f'{tensor_a, tensor_a.shape}')\n",
    "print(f'{tensor_b, tensor_b.shape}')\n",
    "\n",
    "print('Joined on dim=0 (or add into rows):')\n",
    "cat_dim0 = torch.cat([tensor_a, tensor_b], dim=0)\n",
    "print(cat_dim0, cat_dim0.shape)\n",
    "print('Joined on dim=1 (or add into columns):')\n",
    "cat_dim1 = torch.cat([tensor_a, tensor_b], dim=1)\n",
    "print(cat_dim1, cat_dim1.shape)"
   ]
  },
  {
   "attachments": {},
   "cell_type": "markdown",
   "id": "a291e719",
   "metadata": {},
   "source": [
    "==============================================================================\n",
    "\n",
    "__Arithmetic operations\n",
    "\n",
    "=============================================================================="
   ]
  },
  {
   "cell_type": "code",
   "execution_count": 84,
   "id": "1f248207",
   "metadata": {},
   "outputs": [
    {
     "name": "stdout",
     "output_type": "stream",
     "text": [
      "tensor([[1., 1., 1.],\n",
      "        [1., 1., 1.],\n",
      "        [1., 1., 1.]])\n"
     ]
    }
   ],
   "source": [
    "# Matrix Multiplication\n",
    "\n",
    "# tensor_a = torch.tensor([[1,2,3],[4,5,6],[7,8,9]])\n",
    "tensor_a = torch.ones(3,3)\n",
    "print(tensor_a)"
   ]
  },
  {
   "cell_type": "code",
   "execution_count": 91,
   "id": "c8772fd8",
   "metadata": {},
   "outputs": [
    {
     "name": "stdout",
     "output_type": "stream",
     "text": [
      "tensor([[1., 1., 1.],\n",
      "        [2., 2., 2.],\n",
      "        [3., 3., 3.],\n",
      "        [4., 4., 4.]]) torch.Size([4, 3])\n",
      "tensor([[1., 2., 3., 4.],\n",
      "        [1., 2., 3., 4.],\n",
      "        [1., 2., 3., 4.]])\n"
     ]
    }
   ],
   "source": [
    "tensor_b = torch.tensor([\n",
    "    [1, 1, 1], \n",
    "    [2, 2, 2], \n",
    "    [3, 3, 3],\n",
    "    [4, 4, 4]], dtype=torch.float32)\n",
    "print(tensor_b, tensor_b.shape)\n",
    "print(tensor_b.T) # Tranposed"
   ]
  },
  {
   "cell_type": "code",
   "execution_count": 106,
   "id": "9418055b",
   "metadata": {},
   "outputs": [
    {
     "data": {
      "text/plain": [
       "tensor([[ 3.,  6.,  9., 12.],\n",
       "        [ 3.,  6.,  9., 12.],\n",
       "        [ 3.,  6.,  9., 12.]])"
      ]
     },
     "execution_count": 106,
     "metadata": {},
     "output_type": "execute_result"
    }
   ],
   "source": [
    "tensor_c = tensor_a @ tensor_b.T # Matrix multiplication\n",
    "tensor_c"
   ]
  },
  {
   "cell_type": "code",
   "execution_count": 103,
   "id": "f12fa9c7",
   "metadata": {},
   "outputs": [
    {
     "data": {
      "text/plain": [
       "tensor([[0.5891, 0.0136, 0.6542],\n",
       "        [0.1072, 0.7368, 0.9313],\n",
       "        [0.1151, 0.5178, 0.8077]])"
      ]
     },
     "execution_count": 103,
     "metadata": {},
     "output_type": "execute_result"
    }
   ],
   "source": [
    "tensor_d = torch.rand_like(tensor_a) # We initialize tensor_d with the shape of tensor_a\n",
    "tensor_d"
   ]
  },
  {
   "cell_type": "code",
   "execution_count": 105,
   "id": "a6efaf01",
   "metadata": {},
   "outputs": [
    {
     "data": {
      "text/plain": [
       "tensor([[3., 3., 3.],\n",
       "        [3., 3., 3.],\n",
       "        [3., 3., 3.]])"
      ]
     },
     "execution_count": 105,
     "metadata": {},
     "output_type": "execute_result"
    }
   ],
   "source": [
    "torch.matmul(tensor_a, tensor_a.T, out=tensor_d) # tensor_a * tensor_a.T = ones(3,3) * ones(3,3)"
   ]
  },
  {
   "cell_type": "code",
   "execution_count": 115,
   "id": "f830c207",
   "metadata": {},
   "outputs": [
    {
     "name": "stdout",
     "output_type": "stream",
     "text": [
      "tensor([[1., 1., 1.],\n",
      "        [1., 1., 1.],\n",
      "        [1., 1., 1.]])\n",
      "tensor([[1., 1., 1.],\n",
      "        [1., 1., 1.],\n",
      "        [1., 1., 1.]])\n",
      "tensor([[1., 1., 1.],\n",
      "        [1., 1., 1.],\n",
      "        [1., 1., 1.]])\n"
     ]
    }
   ],
   "source": [
    "tensor_e = tensor_a * tensor_a # This is element-wise product\n",
    "print(tensor_e)\n",
    "tensor_f = tensor_a.mul(tensor_a) # This is element-wise product\n",
    "print(tensor_f)\n",
    "tensor_g = torch.rand_like(tensor_a) # Get the shape\n",
    "torch.mul(tensor_a, tensor_a, out=tensor_g) # This is element-wise product\n",
    "print(tensor_f)"
   ]
  },
  {
   "cell_type": "code",
   "execution_count": 9,
   "id": "8e7b8c39",
   "metadata": {},
   "outputs": [],
   "source": [
    "a = torch.tensor([2., 3.], requires_grad=True)\n",
    "b = torch.tensor([6., 4.], requires_grad=True)"
   ]
  },
  {
   "cell_type": "code",
   "execution_count": 10,
   "id": "60e9af48",
   "metadata": {},
   "outputs": [
    {
     "data": {
      "text/plain": [
       "tensor([-12.,  65.], grad_fn=<SubBackward0>)"
      ]
     },
     "execution_count": 10,
     "metadata": {},
     "output_type": "execute_result"
    }
   ],
   "source": [
    "Q = 3*a**3 - b**2\n",
    "Q"
   ]
  },
  {
   "cell_type": "code",
   "execution_count": 11,
   "id": "1893965a",
   "metadata": {},
   "outputs": [
    {
     "data": {
      "text/plain": [
       "(None, None)"
      ]
     },
     "execution_count": 11,
     "metadata": {},
     "output_type": "execute_result"
    }
   ],
   "source": [
    "a.grad, b.grad"
   ]
  },
  {
   "cell_type": "code",
   "execution_count": 12,
   "id": "8321dcdb",
   "metadata": {},
   "outputs": [
    {
     "data": {
      "text/plain": [
       "tensor([-12.,  65.], grad_fn=<SubBackward0>)"
      ]
     },
     "execution_count": 12,
     "metadata": {},
     "output_type": "execute_result"
    }
   ],
   "source": [
    "external_grad = torch.tensor([1., 1.])\n",
    "Q.backward(gradient=external_grad)\n",
    "a.grad, b.grad\n",
    "Q"
   ]
  },
  {
   "cell_type": "code",
   "execution_count": 23,
   "id": "3e4a180c",
   "metadata": {},
   "outputs": [
    {
     "data": {
      "text/plain": [
       "[<matplotlib.lines.Line2D at 0x2b6b85aa430>]"
      ]
     },
     "execution_count": 23,
     "metadata": {},
     "output_type": "execute_result"
    },
    {
     "data": {
      "image/png": "[encoded data removed]",
      "text/plain": [
       "<Figure size 640x480 with 1 Axes>"
      ]
     },
     "metadata": {},
     "output_type": "display_data"
    }
   ],
   "source": [
    "plt.plot(a.detach(), a.grad.detach())"
   ]
  },
  {
   "cell_type": "code",
   "execution_count": 5,
   "id": "24d3327e",
   "metadata": {},
   "outputs": [],
   "source": [
    "import os\n",
    "os.environ[\"PATH\"] += os.pathsep + 'C:/Program Files/Graphviz/bin/'\n",
    "import torch\n",
    "from torch import nn\n",
    "import torchviz"
   ]
  },
  {
   "cell_type": "code",
   "execution_count": 6,
   "id": "f36b2574",
   "metadata": {},
   "outputs": [],
   "source": [
    "class SimpleModel(nn.Module):\n",
    "    def __init__(self):\n",
    "        super(SimpleModel, self).__init__()\n",
    "        self.linear1 = nn.Linear(3, 4)\n",
    "        self.linear2 = nn.Linear(4, 2)\n",
    "\n",
    "    def forward(self, x):\n",
    "        x = torch.relu(self.linear1(x))\n",
    "        x = self.linear2(x)\n",
    "        return x"
   ]
  },
  {
   "cell_type": "code",
   "execution_count": 8,
   "id": "3afecd2f",
   "metadata": {},
   "outputs": [
    {
     "data": {
      "image/svg+xml": [
       "<?xml version=\"1.0\" encoding=\"UTF-8\" standalone=\"no\"?>\n",
       "<!DOCTYPE svg PUBLIC \"-//W3C//DTD SVG 1.1//EN\"\n",
       " \"http://www.w3.org/Graphics/SVG/1.1/DTD/svg11.dtd\">\n",
       "<!-- Generated by graphviz version 8.0.5 (20230430.1635)\n",
       " -->\n",
       "<!-- Pages: 1 -->\n",
       "<svg width=\"339pt\" height=\"480pt\"\n",
       " viewBox=\"0.00 0.00 339.00 480.00\" xmlns=\"http://www.w3.org/2000/svg\" xmlns:xlink=\"http://www.w3.org/1999/xlink\">\n",
       "<g id=\"graph0\" class=\"graph\" transform=\"scale(1 1) rotate(0) translate(4 476)\">\n",
       "<polygon fill=\"white\" stroke=\"none\" points=\"-4,4 -4,-476 335,-476 335,4 -4,4\"/>\n",
       "<!-- 2983776423584 -->\n",
       "<g id=\"node1\" class=\"node\">\n",
       "<title>2983776423584</title>\n",
       "<polygon fill=\"#caff70\" stroke=\"black\" points=\"192,-32 138,-32 138,0 192,0 192,-32\"/>\n",
       "<text text-anchor=\"middle\" x=\"165\" y=\"-6.5\" font-family=\"monospace\" font-size=\"10.00\"> ()</text>\n",
       "</g>\n",
       "<!-- 2983780170240 -->\n",
       "<g id=\"node2\" class=\"node\">\n",
       "<title>2983780170240</title>\n",
       "<polygon fill=\"lightgrey\" stroke=\"black\" points=\"209,-88 121,-88 121,-68 209,-68 209,-88\"/>\n",
       "<text text-anchor=\"middle\" x=\"165\" y=\"-74.5\" font-family=\"monospace\" font-size=\"10.00\">SumBackward0</text>\n",
       "</g>\n",
       "<!-- 2983780170240&#45;&gt;2983776423584 -->\n",
       "<g id=\"edge14\" class=\"edge\">\n",
       "<title>2983780170240&#45;&gt;2983776423584</title>\n",
       "<path fill=\"none\" stroke=\"black\" d=\"M165,-67.62C165,-61.02 165,-51.84 165,-43.11\"/>\n",
       "<polygon fill=\"black\" stroke=\"black\" points=\"168.5,-43.14 165,-33.14 161.5,-43.14 168.5,-43.14\"/>\n",
       "</g>\n",
       "<!-- 2983780170432 -->\n",
       "<g id=\"node3\" class=\"node\">\n",
       "<title>2983780170432</title>\n",
       "<polygon fill=\"lightgrey\" stroke=\"black\" points=\"215,-144 115,-144 115,-124 215,-124 215,-144\"/>\n",
       "<text text-anchor=\"middle\" x=\"165\" y=\"-130.5\" font-family=\"monospace\" font-size=\"10.00\">AddmmBackward0</text>\n",
       "</g>\n",
       "<!-- 2983780170432&#45;&gt;2983780170240 -->\n",
       "<g id=\"edge1\" class=\"edge\">\n",
       "<title>2983780170432&#45;&gt;2983780170240</title>\n",
       "<path fill=\"none\" stroke=\"black\" d=\"M165,-123.59C165,-116.86 165,-107.53 165,-99.15\"/>\n",
       "<polygon fill=\"black\" stroke=\"black\" points=\"168.5,-99.3 165,-89.3 161.5,-99.3 168.5,-99.3\"/>\n",
       "</g>\n",
       "<!-- 2983780169712 -->\n",
       "<g id=\"node4\" class=\"node\">\n",
       "<title>2983780169712</title>\n",
       "<polygon fill=\"lightgrey\" stroke=\"black\" points=\"100,-200 0,-200 0,-180 100,-180 100,-200\"/>\n",
       "<text text-anchor=\"middle\" x=\"50\" y=\"-186.5\" font-family=\"monospace\" font-size=\"10.00\">AccumulateGrad</text>\n",
       "</g>\n",
       "<!-- 2983780169712&#45;&gt;2983780170432 -->\n",
       "<g id=\"edge2\" class=\"edge\">\n",
       "<title>2983780169712&#45;&gt;2983780170432</title>\n",
       "<path fill=\"none\" stroke=\"black\" d=\"M70.03,-179.59C87.98,-171.17 114.55,-158.69 135.03,-149.07\"/>\n",
       "<polygon fill=\"black\" stroke=\"black\" points=\"136.25,-151.9 143.81,-144.48 133.27,-145.56 136.25,-151.9\"/>\n",
       "</g>\n",
       "<!-- 2983783252992 -->\n",
       "<g id=\"node5\" class=\"node\">\n",
       "<title>2983783252992</title>\n",
       "<polygon fill=\"lightblue\" stroke=\"black\" points=\"94,-268 6,-268 6,-236 94,-236 94,-268\"/>\n",
       "<text text-anchor=\"middle\" x=\"50\" y=\"-254.5\" font-family=\"monospace\" font-size=\"10.00\">linear2.bias</text>\n",
       "<text text-anchor=\"middle\" x=\"50\" y=\"-242.5\" font-family=\"monospace\" font-size=\"10.00\"> (2)</text>\n",
       "</g>\n",
       "<!-- 2983783252992&#45;&gt;2983780169712 -->\n",
       "<g id=\"edge3\" class=\"edge\">\n",
       "<title>2983783252992&#45;&gt;2983780169712</title>\n",
       "<path fill=\"none\" stroke=\"black\" d=\"M50,-235.55C50,-228.17 50,-219.24 50,-211.32\"/>\n",
       "<polygon fill=\"black\" stroke=\"black\" points=\"53.5,-211.41 50,-201.41 46.5,-211.41 53.5,-211.41\"/>\n",
       "</g>\n",
       "<!-- 2983780170144 -->\n",
       "<g id=\"node6\" class=\"node\">\n",
       "<title>2983780170144</title>\n",
       "<polygon fill=\"lightgrey\" stroke=\"black\" points=\"212,-200 118,-200 118,-180 212,-180 212,-200\"/>\n",
       "<text text-anchor=\"middle\" x=\"165\" y=\"-186.5\" font-family=\"monospace\" font-size=\"10.00\">ReluBackward0</text>\n",
       "</g>\n",
       "<!-- 2983780170144&#45;&gt;2983780170432 -->\n",
       "<g id=\"edge4\" class=\"edge\">\n",
       "<title>2983780170144&#45;&gt;2983780170432</title>\n",
       "<path fill=\"none\" stroke=\"black\" d=\"M165,-179.59C165,-172.86 165,-163.53 165,-155.15\"/>\n",
       "<polygon fill=\"black\" stroke=\"black\" points=\"168.5,-155.3 165,-145.3 161.5,-155.3 168.5,-155.3\"/>\n",
       "</g>\n",
       "<!-- 2983780169952 -->\n",
       "<g id=\"node7\" class=\"node\">\n",
       "<title>2983780169952</title>\n",
       "<polygon fill=\"lightgrey\" stroke=\"black\" points=\"213,-262 113,-262 113,-242 213,-242 213,-262\"/>\n",
       "<text text-anchor=\"middle\" x=\"163\" y=\"-248.5\" font-family=\"monospace\" font-size=\"10.00\">AddmmBackward0</text>\n",
       "</g>\n",
       "<!-- 2983780169952&#45;&gt;2983780170144 -->\n",
       "<g id=\"edge5\" class=\"edge\">\n",
       "<title>2983780169952&#45;&gt;2983780170144</title>\n",
       "<path fill=\"none\" stroke=\"black\" d=\"M163.31,-241.62C163.58,-233.48 163.99,-221.39 164.33,-211.07\"/>\n",
       "<polygon fill=\"black\" stroke=\"black\" points=\"167.86,-211.22 164.7,-201.11 160.86,-210.99 167.86,-211.22\"/>\n",
       "</g>\n",
       "<!-- 2983780169328 -->\n",
       "<g id=\"node8\" class=\"node\">\n",
       "<title>2983780169328</title>\n",
       "<polygon fill=\"lightgrey\" stroke=\"black\" points=\"110,-330 10,-330 10,-310 110,-310 110,-330\"/>\n",
       "<text text-anchor=\"middle\" x=\"60\" y=\"-316.5\" font-family=\"monospace\" font-size=\"10.00\">AccumulateGrad</text>\n",
       "</g>\n",
       "<!-- 2983780169328&#45;&gt;2983780169952 -->\n",
       "<g id=\"edge6\" class=\"edge\">\n",
       "<title>2983780169328&#45;&gt;2983780169952</title>\n",
       "<path fill=\"none\" stroke=\"black\" d=\"M74.76,-309.54C91.58,-298.76 119.33,-280.98 139.22,-268.24\"/>\n",
       "<polygon fill=\"black\" stroke=\"black\" points=\"140.74,-270.78 147.27,-262.44 136.96,-264.89 140.74,-270.78\"/>\n",
       "</g>\n",
       "<!-- 2984844596224 -->\n",
       "<g id=\"node9\" class=\"node\">\n",
       "<title>2984844596224</title>\n",
       "<polygon fill=\"lightblue\" stroke=\"black\" points=\"103,-404 15,-404 15,-372 103,-372 103,-404\"/>\n",
       "<text text-anchor=\"middle\" x=\"59\" y=\"-390.5\" font-family=\"monospace\" font-size=\"10.00\">linear1.bias</text>\n",
       "<text text-anchor=\"middle\" x=\"59\" y=\"-378.5\" font-family=\"monospace\" font-size=\"10.00\"> (4)</text>\n",
       "</g>\n",
       "<!-- 2984844596224&#45;&gt;2983780169328 -->\n",
       "<g id=\"edge7\" class=\"edge\">\n",
       "<title>2984844596224&#45;&gt;2983780169328</title>\n",
       "<path fill=\"none\" stroke=\"black\" d=\"M59.23,-371.69C59.37,-362.6 59.55,-350.95 59.7,-341.12\"/>\n",
       "<polygon fill=\"black\" stroke=\"black\" points=\"63.21,-341.37 59.86,-331.32 56.21,-341.26 63.21,-341.37\"/>\n",
       "</g>\n",
       "<!-- 2983780170096 -->\n",
       "<g id=\"node10\" class=\"node\">\n",
       "<title>2983780170096</title>\n",
       "<polygon fill=\"lightgrey\" stroke=\"black\" points=\"207,-330 131,-330 131,-310 207,-310 207,-330\"/>\n",
       "<text text-anchor=\"middle\" x=\"169\" y=\"-316.5\" font-family=\"monospace\" font-size=\"10.00\">TBackward0</text>\n",
       "</g>\n",
       "<!-- 2983780170096&#45;&gt;2983780169952 -->\n",
       "<g id=\"edge8\" class=\"edge\">\n",
       "<title>2983780170096&#45;&gt;2983780169952</title>\n",
       "<path fill=\"none\" stroke=\"black\" d=\"M168.14,-309.54C167.28,-300.13 165.94,-285.39 164.85,-273.32\"/>\n",
       "<polygon fill=\"black\" stroke=\"black\" points=\"168.25,-273.08 163.86,-263.44 161.28,-273.71 168.25,-273.08\"/>\n",
       "</g>\n",
       "<!-- 2983780169904 -->\n",
       "<g id=\"node11\" class=\"node\">\n",
       "<title>2983780169904</title>\n",
       "<polygon fill=\"lightgrey\" stroke=\"black\" points=\"221,-398 121,-398 121,-378 221,-378 221,-398\"/>\n",
       "<text text-anchor=\"middle\" x=\"171\" y=\"-384.5\" font-family=\"monospace\" font-size=\"10.00\">AccumulateGrad</text>\n",
       "</g>\n",
       "<!-- 2983780169904&#45;&gt;2983780170096 -->\n",
       "<g id=\"edge9\" class=\"edge\">\n",
       "<title>2983780169904&#45;&gt;2983780170096</title>\n",
       "<path fill=\"none\" stroke=\"black\" d=\"M170.71,-377.54C170.43,-368.13 169.98,-353.39 169.62,-341.32\"/>\n",
       "<polygon fill=\"black\" stroke=\"black\" points=\"173.09,-341.33 169.29,-331.44 166.09,-341.54 173.09,-341.33\"/>\n",
       "</g>\n",
       "<!-- 2983633040304 -->\n",
       "<g id=\"node12\" class=\"node\">\n",
       "<title>2983633040304</title>\n",
       "<polygon fill=\"lightblue\" stroke=\"black\" points=\"221,-472 121,-472 121,-440 221,-440 221,-472\"/>\n",
       "<text text-anchor=\"middle\" x=\"171\" y=\"-458.5\" font-family=\"monospace\" font-size=\"10.00\">linear1.weight</text>\n",
       "<text text-anchor=\"middle\" x=\"171\" y=\"-446.5\" font-family=\"monospace\" font-size=\"10.00\"> (4, 3)</text>\n",
       "</g>\n",
       "<!-- 2983633040304&#45;&gt;2983780169904 -->\n",
       "<g id=\"edge10\" class=\"edge\">\n",
       "<title>2983633040304&#45;&gt;2983780169904</title>\n",
       "<path fill=\"none\" stroke=\"black\" d=\"M171,-439.69C171,-430.6 171,-418.95 171,-409.12\"/>\n",
       "<polygon fill=\"black\" stroke=\"black\" points=\"174.5,-409.32 171,-399.32 167.5,-409.32 174.5,-409.32\"/>\n",
       "</g>\n",
       "<!-- 2983780170000 -->\n",
       "<g id=\"node13\" class=\"node\">\n",
       "<title>2983780170000</title>\n",
       "<polygon fill=\"lightgrey\" stroke=\"black\" points=\"312,-200 236,-200 236,-180 312,-180 312,-200\"/>\n",
       "<text text-anchor=\"middle\" x=\"274\" y=\"-186.5\" font-family=\"monospace\" font-size=\"10.00\">TBackward0</text>\n",
       "</g>\n",
       "<!-- 2983780170000&#45;&gt;2983780170432 -->\n",
       "<g id=\"edge11\" class=\"edge\">\n",
       "<title>2983780170000&#45;&gt;2983780170432</title>\n",
       "<path fill=\"none\" stroke=\"black\" d=\"M255.01,-179.59C238.16,-171.24 213.28,-158.92 193.94,-149.34\"/>\n",
       "<polygon fill=\"black\" stroke=\"black\" points=\"195.65,-145.78 185.13,-144.48 192.54,-152.05 195.65,-145.78\"/>\n",
       "</g>\n",
       "<!-- 2983780169184 -->\n",
       "<g id=\"node14\" class=\"node\">\n",
       "<title>2983780169184</title>\n",
       "<polygon fill=\"lightgrey\" stroke=\"black\" points=\"331,-262 231,-262 231,-242 331,-242 331,-262\"/>\n",
       "<text text-anchor=\"middle\" x=\"281\" y=\"-248.5\" font-family=\"monospace\" font-size=\"10.00\">AccumulateGrad</text>\n",
       "</g>\n",
       "<!-- 2983780169184&#45;&gt;2983780170000 -->\n",
       "<g id=\"edge12\" class=\"edge\">\n",
       "<title>2983780169184&#45;&gt;2983780170000</title>\n",
       "<path fill=\"none\" stroke=\"black\" d=\"M279.91,-241.62C278.95,-233.39 277.51,-221.13 276.3,-210.74\"/>\n",
       "<polygon fill=\"black\" stroke=\"black\" points=\"279.7,-210.64 275.06,-201.11 272.75,-211.45 279.7,-210.64\"/>\n",
       "</g>\n",
       "<!-- 2983634291504 -->\n",
       "<g id=\"node15\" class=\"node\">\n",
       "<title>2983634291504</title>\n",
       "<polygon fill=\"lightblue\" stroke=\"black\" points=\"331,-336 231,-336 231,-304 331,-304 331,-336\"/>\n",
       "<text text-anchor=\"middle\" x=\"281\" y=\"-322.5\" font-family=\"monospace\" font-size=\"10.00\">linear2.weight</text>\n",
       "<text text-anchor=\"middle\" x=\"281\" y=\"-310.5\" font-family=\"monospace\" font-size=\"10.00\"> (2, 4)</text>\n",
       "</g>\n",
       "<!-- 2983634291504&#45;&gt;2983780169184 -->\n",
       "<g id=\"edge13\" class=\"edge\">\n",
       "<title>2983634291504&#45;&gt;2983780169184</title>\n",
       "<path fill=\"none\" stroke=\"black\" d=\"M281,-303.69C281,-294.6 281,-282.95 281,-273.12\"/>\n",
       "<polygon fill=\"black\" stroke=\"black\" points=\"284.5,-273.32 281,-263.32 277.5,-273.32 284.5,-273.32\"/>\n",
       "</g>\n",
       "</g>\n",
       "</svg>\n"
      ],
      "text/plain": [
       "<graphviz.graphs.Digraph at 0x2b6b72837c0>"
      ]
     },
     "execution_count": 8,
     "metadata": {},
     "output_type": "execute_result"
    }
   ],
   "source": [
    "model = SimpleModel()\n",
    "x = torch.randn(1, 3)   \n",
    "output = model(x)\n",
    "loss = output.sum()\n",
    "loss.backward()\n",
    "torchviz.make_dot(loss, params=dict(model.named_parameters()))"
   ]
  },
  {
   "cell_type": "code",
   "execution_count": 10,
   "id": "85c13edf",
   "metadata": {},
   "outputs": [
    {
     "name": "stdout",
     "output_type": "stream",
     "text": [
      "tensor([-0.2000, -0.2000, -0.1000, -0.1000])\n",
      "['-0.20', '-0.20', '-0.10', '-0.10']\n"
     ]
    }
   ],
   "source": [
    "import torch\n",
    "\n",
    "logp_b = torch.tensor([\n",
    "    [-0.6, -0.4, -0.2],\n",
    "    [-0.5, -0.2, -0.3],\n",
    "    [-0.7, -0.1, -0.2],\n",
    "    [-0.6, -0.3, -0.1]\n",
    "])\n",
    "\n",
    "y_b = torch.tensor([2, 1, 1, 2])\n",
    "# for each row of logp_b, select the column given by y_b\n",
    "correct_logprobs = logp_b[range(y_b.shape[0]), y_b]\n",
    "print(correct_logprobs)\n",
    "correct_logprobs_list = correct_logprobs.tolist()\n",
    "print(['{:.2f}'.format(num) for num in correct_logprobs_list])"
   ]
  },
  {
   "attachments": {},
   "cell_type": "markdown",
   "id": "983084d9",
   "metadata": {},
   "source": [
    "`LogSumExp` efficiently computes the sum of exponentiated values, ensuring stability and precision with small or large numbers.\n",
    "\n",
    "https://gregorygundersen.com/blog/2020/02/09/log-sum-exp/"
   ]
  },
  {
   "cell_type": "code",
   "execution_count": 21,
   "id": "c98090bd",
   "metadata": {},
   "outputs": [
    {
     "name": "stdout",
     "output_type": "stream",
     "text": [
      "[0. 0. 1.]\n"
     ]
    }
   ],
   "source": [
    "# NumPy example\n",
    "import numpy as np\n",
    "def logsumexp(x):\n",
    "    c = x.max()\n",
    "    return c + np.log(np.sum(np.exp(x - c)))\n",
    "x = np.array([-1000, -1000, 1000])\n",
    "# print(np.exp(x)) # [0. 0. inf] NumPy Overflow\n",
    "print(np.exp(x - logsumexp(x)))"
   ]
  },
  {
   "cell_type": "code",
   "execution_count": 23,
   "id": "3885a52f",
   "metadata": {},
   "outputs": [
    {
     "name": "stdout",
     "output_type": "stream",
     "text": [
      "tensor([0., 0., inf])\n",
      "tensor([0., 0., 1.])\n"
     ]
    }
   ],
   "source": [
    "# PyTorch example\n",
    "import torch\n",
    "\n",
    "def logsumexp(x):\n",
    "    c = x.max()\n",
    "    return c + torch.log(torch.sum(torch.exp(x - c)))\n",
    "\n",
    "x = torch.tensor([-1000., -1000., 1000.])\n",
    "print(torch.exp(x))\n",
    "print(torch.exp(x - logsumexp(x)))"
   ]
  }
 ],
 "metadata": {
  "kernelspec": {
   "display_name": "Python 3 (ipykernel)",
   "language": "python",
   "name": "python3"
  },
  "language_info": {
   "codemirror_mode": {
    "name": "ipython",
    "version": 3
   },
   "file_extension": ".py",
   "mimetype": "text/x-python",
   "name": "python",
   "nbconvert_exporter": "python",
   "pygments_lexer": "ipython3",
   "version": "3.9.16"
  }
 },
 "nbformat": 4,
 "nbformat_minor": 5
}
