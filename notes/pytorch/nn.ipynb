{
 "cells": [
  {
   "attachments": {},
   "cell_type": "markdown",
   "id": "fe7c6857",
   "metadata": {},
   "source": [
    "==============================================================================\n",
    "__Building the Neural Network\n",
    "\n",
    "==============================================================================\n",
    "\n",
    "Official Tutorial:\n",
    "https://pytorch.org/tutorials/beginner/basics/buildmodel_tutorial.html\n",
    "\n",
    "nn.tutorial:\n",
    "https://colab.research.google.com/github/pytorch/tutorials/blob/gh-pages/_downloads/d9398fce39ca80dc4bb8b8ea55b575a8/nn_tutorial.ipynb"
   ]
  },
  {
   "cell_type": "code",
   "execution_count": null,
   "id": "df335020",
   "metadata": {},
   "outputs": [],
   "source": [
    "# Get the total number of parameters in a model\n",
    "print(\"# of Parametes\",sum(p.numel() for p in ModelClass().parameters() if p.requires_grad))"
   ]
  },
  {
   "attachments": {},
   "cell_type": "markdown",
   "id": "8a11e4f0",
   "metadata": {},
   "source": [
    "__Training loop:\n",
    "\n",
    "For each epoch, we will make a full pass over the training data:\n",
    "1. `optimizer.zero_grad()`. By default, gradients are accumulated in buffers( i.e, not overwritten) whenever `.backward()` is called.\n",
    "2. Forward pass: compute predicted y by passing x to the model.\n",
    "3. Compute loss between predictions and groud truth labels.\n",
    "4. `loss.backward()`: compute gradient of the loss with respect to model parameters.\n",
    "5. Calling `optimizer.step` makes an update to its parameters with the computed gradients.\n",
    "6. Periodically evaluate the model on the validation set and adjust the hyperparameters (e.g., learning rate) accordingly.\n",
    "7. Periodically log the loss,accuracy, and other metrics."
   ]
  },
  {
   "attachments": {},
   "cell_type": "markdown",
   "id": "cb6a00ea",
   "metadata": {},
   "source": [
    "__Saving and load models:\n",
    "https://pytorch.org/tutorials/beginner/basics/saveloadrun_tutorial.html#save-and-load-the-model\n",
    "\n",
    "This line have to be somewhere in the code:\n",
    "```python\n",
    "torch.save(model.state_dict(), PATH)\n",
    "```"
   ]
  }
 ],
 "metadata": {
  "kernelspec": {
   "display_name": "Python 3 (ipykernel)",
   "language": "python",
   "name": "python3"
  },
  "language_info": {
   "codemirror_mode": {
    "name": "ipython",
    "version": 3
   },
   "file_extension": ".py",
   "mimetype": "text/x-python",
   "name": "python",
   "nbconvert_exporter": "python",
   "pygments_lexer": "ipython3",
   "version": "3.9.16"
  }
 },
 "nbformat": 4,
 "nbformat_minor": 5
}
