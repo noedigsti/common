{
 "cells": [
  {
   "cell_type": "markdown",
   "id": "8b665e2a",
   "metadata": {},
   "source": [
    "==============================================================================\n",
    "__Torch Datasets & DataLoaders\n",
    "\n",
    "==============================================================================\n",
    "\n",
    "Official Tutorial:\n",
    "https://pytorch.org/tutorials/beginner/basics/data_tutorial.html\n",
    "\n",
    "Fashion MNIST:\n",
    "https://colab.research.google.com/github/pytorch/tutorials/blob/gh-pages/_downloads/36608d2d57f623ba3a623e0c947a8c3e/data_tutorial.ipynb#scrollTo=mxumday6WO7u\n",
    "\n",
    "__Basic Manipulations with the datasets\n",
    "\n",
    "Official Tutorial:\n",
    "https://pytorch.org/tutorials/beginner/basics/transforms_tutorial.html"
   ]
  }
 ],
 "metadata": {
  "kernelspec": {
   "display_name": "Python 3 (ipykernel)",
   "language": "python",
   "name": "python3"
  },
  "language_info": {
   "codemirror_mode": {
    "name": "ipython",
    "version": 3
   },
   "file_extension": ".py",
   "mimetype": "text/x-python",
   "name": "python",
   "nbconvert_exporter": "python",
   "pygments_lexer": "ipython3",
   "version": "3.9.16"
  }
 },
 "nbformat": 4,
 "nbformat_minor": 5
}
