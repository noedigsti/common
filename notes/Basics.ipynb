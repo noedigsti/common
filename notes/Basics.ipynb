{
 "cells": [
  {
   "cell_type": "code",
   "execution_count": 119,
   "id": "01f16a4d",
   "metadata": {},
   "outputs": [],
   "source": [
    "import torch\n",
    "import numpy as np"
   ]
  },
  {
   "cell_type": "markdown",
   "id": "5bb795c8",
   "metadata": {},
   "source": [
    "==============================================================================\n",
    "__Commonly used functions and operations\n",
    "\n",
    "=============================================================================="
   ]
  },
  {
   "cell_type": "code",
   "execution_count": 8,
   "id": "f43b78f6",
   "metadata": {},
   "outputs": [
    {
     "data": {
      "text/plain": [
       "True"
      ]
     },
     "execution_count": 8,
     "metadata": {},
     "output_type": "execute_result"
    }
   ],
   "source": [
    "# Check for GPU availability\n",
    "torch.cuda.is_available()"
   ]
  },
  {
   "cell_type": "markdown",
   "id": "beddcfc4",
   "metadata": {},
   "source": [
    "==============================================================================\n",
    "__Basic tensor manipulations\n",
    "\n",
    "=============================================================================="
   ]
  },
  {
   "cell_type": "code",
   "execution_count": 130,
   "id": "629a500a",
   "metadata": {},
   "outputs": [
    {
     "name": "stdout",
     "output_type": "stream",
     "text": [
      "Inline data = [[1, 2, 3], [4, 5, 6], [7, 8, 9]]\n",
      "NumPy data = [[1. 1. 1.]\n",
      " [1. 1. 1.]\n",
      " [1. 1. 1.]]\n",
      "NumPy data = [[2. 2. 2.]\n",
      " [2. 2. 2.]\n",
      " [2. 2. 2.]]\n"
     ]
    }
   ],
   "source": [
    "# Example\n",
    "data = [[1, 2, 3], [4, 5, 6], [7, 8, 9]]\n",
    "print(f\"Inline data = {data}\")\n",
    "np_data = np.ones((3,3)) # NumPy\n",
    "print(f\"NumPy data = {np_data}\")\n",
    "np.add(np_data, 1, out=np_data)\n",
    "print(f\"NumPy data = {np_data}\")"
   ]
  },
  {
   "cell_type": "code",
   "execution_count": 127,
   "id": "063b2117",
   "metadata": {},
   "outputs": [
    {
     "name": "stdout",
     "output_type": "stream",
     "text": [
      "tensor([[1, 2, 3],\n",
      "        [4, 5, 6],\n",
      "        [7, 8, 9]]) torch.Size([3, 3])\n",
      "tensor([[2., 2., 2.],\n",
      "        [2., 2., 2.],\n",
      "        [2., 2., 2.]], dtype=torch.float64)\n"
     ]
    }
   ],
   "source": [
    "# Assigning data to a tensor\n",
    "tensor_a = torch.tensor(data)\n",
    "print(tensor_a, tensor_a.shape)\n",
    "tensor_a_from_np = torch.from_numpy(np_data)\n",
    "print(tensor_a_from_np)"
   ]
  },
  {
   "cell_type": "code",
   "execution_count": 29,
   "id": "75db9366",
   "metadata": {},
   "outputs": [
    {
     "name": "stdout",
     "output_type": "stream",
     "text": [
      "Random Tensor: \n",
      " tensor([[0.2929, 0.7580, 0.5592],\n",
      "        [0.8401, 0.8230, 0.6283]]) \n",
      "\n",
      "Ones Tensor: \n",
      " tensor([[1., 1., 1.],\n",
      "        [1., 1., 1.]]) \n",
      "\n",
      "Ones Like Tensor: \n",
      " tensor([[1, 1, 1],\n",
      "        [1, 1, 1]]) \n",
      "\n",
      "Zeros Tensor: \n",
      " tensor([[0., 0., 0.],\n",
      "        [0., 0., 0.]])\n",
      "Zeroes Like Tensor: \n",
      " tensor([[0, 0, 0],\n",
      "        [0, 0, 0]]) \n",
      "\n"
     ]
    }
   ],
   "source": [
    "# Create a random tensor with uniform distribution of the x_data's shape\n",
    "rand_tensor = torch.rand(tensor_a.shape)\n",
    "\n",
    "# Create a tensor of ones of the x_data's shape\n",
    "ones_tensor = torch.ones(tensor_a.shape)\n",
    "\n",
    "# Create a tensor of ones with the tensor x_data\n",
    "ones_like = torch.ones_like(tensor_a)\n",
    "\n",
    "# Create a tensor of zeroes of the x_data shape\n",
    "zeros_tensor = torch.zeros(tensor_a.shape)\n",
    "\n",
    "# Create a tensor of zeroes with the tensor x_data\n",
    "zeros_like = torch.zeros_like(tensor_a)\n",
    "\n",
    "print(f\"Random Tensor: \\n {rand_tensor} \\n\")\n",
    "print(f\"Ones Tensor: \\n {ones_tensor} \\n\")\n",
    "print(f\"Ones Like Tensor: \\n {ones_like} \\n\")\n",
    "print(f\"Zeros Tensor: \\n {zeros_tensor}\")\n",
    "print(f\"Zeroes Like Tensor: \\n {zeros_like} \\n\")"
   ]
  },
  {
   "cell_type": "code",
   "execution_count": 27,
   "id": "051be3ac",
   "metadata": {},
   "outputs": [
    {
     "name": "stdout",
     "output_type": "stream",
     "text": [
      "Shape of tensor: torch.Size([3, 4])\n",
      "Datatype of tensor: torch.float32\n",
      "Device tensor is stored on: cuda:0\n"
     ]
    }
   ],
   "source": [
    "# Moving tensors to a GPU\n",
    "tensor = torch.rand((3,4), device=\"cuda\")\n",
    "if torch.cuda.is_available():\n",
    "    tensor.to('cuda')\n",
    "\n",
    "# Attributes of a tensor: shape, dtype, device\n",
    "print(f\"Shape of tensor: {tensor.shape}\")\n",
    "print(f\"Datatype of tensor: {tensor.dtype}\")\n",
    "print(f\"Device tensor is stored on: {tensor.device}\")"
   ]
  },
  {
   "cell_type": "code",
   "execution_count": 36,
   "id": "41e7ea76",
   "metadata": {},
   "outputs": [
    {
     "name": "stdout",
     "output_type": "stream",
     "text": [
      "First row: tensor([1., 1., 1., 1.])\n",
      "First column: tensor([1., 1., 1., 1.])\n",
      "Last column: tensor([1., 1., 1., 1.])\n",
      "tensor([[1., 0., 1., 1.],\n",
      "        [1., 0., 1., 1.],\n",
      "        [1., 0., 1., 1.],\n",
      "        [1., 0., 1., 1.]])\n"
     ]
    }
   ],
   "source": [
    "# Indexing and Slicing\n",
    "tensor = torch.ones(4, 4)\n",
    "print(f\"First row: {tensor[0]}\")\n",
    "print(f\"First column: {tensor[:, 0]}\")\n",
    "print(f\"Last column: {tensor[..., -1]}\")\n",
    "tensor[:,1] = 0\n",
    "print(tensor)"
   ]
  },
  {
   "cell_type": "code",
   "execution_count": 67,
   "id": "b027bfc5",
   "metadata": {},
   "outputs": [
    {
     "name": "stdout",
     "output_type": "stream",
     "text": [
      "(tensor([[1., 1., 1.],\n",
      "        [1., 1., 1.],\n",
      "        [1., 1., 1.]]), torch.Size([3, 3]))\n",
      "(tensor([[2., 2., 2.],\n",
      "        [2., 2., 2.],\n",
      "        [2., 2., 2.]]), torch.Size([3, 3]))\n",
      "Joined on dim=0 (or add into rows):\n",
      "tensor([[1., 1., 1.],\n",
      "        [1., 1., 1.],\n",
      "        [1., 1., 1.],\n",
      "        [2., 2., 2.],\n",
      "        [2., 2., 2.],\n",
      "        [2., 2., 2.]]) torch.Size([6, 3])\n",
      "Joined on dim=1 (or add into columns):\n",
      "tensor([[1., 1., 1., 2., 2., 2.],\n",
      "        [1., 1., 1., 2., 2., 2.],\n",
      "        [1., 1., 1., 2., 2., 2.]]) torch.Size([3, 6])\n"
     ]
    }
   ],
   "source": [
    "# Joining tensors\n",
    "tensor_a = torch.ones(3,3)\n",
    "tensor_b = torch.ones(3,3) + torch.ones(1)\n",
    "print(f'{tensor_a, tensor_a.shape}')\n",
    "print(f'{tensor_b, tensor_b.shape}')\n",
    "\n",
    "print('Joined on dim=0 (or add into rows):')\n",
    "cat_dim0 = torch.cat([tensor_a, tensor_b], dim=0)\n",
    "print(cat_dim0, cat_dim0.shape)\n",
    "print('Joined on dim=1 (or add into columns):')\n",
    "cat_dim1 = torch.cat([tensor_a, tensor_b], dim=1)\n",
    "print(cat_dim1, cat_dim1.shape)"
   ]
  },
  {
   "cell_type": "markdown",
   "id": "a291e719",
   "metadata": {},
   "source": [
    "==============================================================================\n",
    "__Arithmetic operations\n",
    "\n",
    "=============================================================================="
   ]
  },
  {
   "cell_type": "code",
   "execution_count": 84,
   "id": "1f248207",
   "metadata": {},
   "outputs": [
    {
     "name": "stdout",
     "output_type": "stream",
     "text": [
      "tensor([[1., 1., 1.],\n",
      "        [1., 1., 1.],\n",
      "        [1., 1., 1.]])\n"
     ]
    }
   ],
   "source": [
    "# Matrix Multiplication\n",
    "\n",
    "# tensor_a = torch.tensor([[1,2,3],[4,5,6],[7,8,9]])\n",
    "tensor_a = torch.ones(3,3)\n",
    "print(tensor_a)"
   ]
  },
  {
   "cell_type": "code",
   "execution_count": 91,
   "id": "c8772fd8",
   "metadata": {},
   "outputs": [
    {
     "name": "stdout",
     "output_type": "stream",
     "text": [
      "tensor([[1., 1., 1.],\n",
      "        [2., 2., 2.],\n",
      "        [3., 3., 3.],\n",
      "        [4., 4., 4.]]) torch.Size([4, 3])\n",
      "tensor([[1., 2., 3., 4.],\n",
      "        [1., 2., 3., 4.],\n",
      "        [1., 2., 3., 4.]])\n"
     ]
    }
   ],
   "source": [
    "tensor_b = torch.tensor([\n",
    "    [1, 1, 1], \n",
    "    [2, 2, 2], \n",
    "    [3, 3, 3],\n",
    "    [4, 4, 4]], dtype=torch.float32)\n",
    "print(tensor_b, tensor_b.shape)\n",
    "print(tensor_b.T) # Tranposed"
   ]
  },
  {
   "cell_type": "code",
   "execution_count": 106,
   "id": "9418055b",
   "metadata": {},
   "outputs": [
    {
     "data": {
      "text/plain": [
       "tensor([[ 3.,  6.,  9., 12.],\n",
       "        [ 3.,  6.,  9., 12.],\n",
       "        [ 3.,  6.,  9., 12.]])"
      ]
     },
     "execution_count": 106,
     "metadata": {},
     "output_type": "execute_result"
    }
   ],
   "source": [
    "tensor_c = tensor_a @ tensor_b.T # Matrix multiplication\n",
    "tensor_c"
   ]
  },
  {
   "cell_type": "code",
   "execution_count": 103,
   "id": "f12fa9c7",
   "metadata": {},
   "outputs": [
    {
     "data": {
      "text/plain": [
       "tensor([[0.5891, 0.0136, 0.6542],\n",
       "        [0.1072, 0.7368, 0.9313],\n",
       "        [0.1151, 0.5178, 0.8077]])"
      ]
     },
     "execution_count": 103,
     "metadata": {},
     "output_type": "execute_result"
    }
   ],
   "source": [
    "tensor_d = torch.rand_like(tensor_a) # We initialize tensor_d with the shape of tensor_a\n",
    "tensor_d"
   ]
  },
  {
   "cell_type": "code",
   "execution_count": 105,
   "id": "a6efaf01",
   "metadata": {},
   "outputs": [
    {
     "data": {
      "text/plain": [
       "tensor([[3., 3., 3.],\n",
       "        [3., 3., 3.],\n",
       "        [3., 3., 3.]])"
      ]
     },
     "execution_count": 105,
     "metadata": {},
     "output_type": "execute_result"
    }
   ],
   "source": [
    "torch.matmul(tensor_a, tensor_a.T, out=tensor_d) # tensor_a * tensor_a.T = ones(3,3) * ones(3,3)"
   ]
  },
  {
   "cell_type": "code",
   "execution_count": 115,
   "id": "f830c207",
   "metadata": {},
   "outputs": [
    {
     "name": "stdout",
     "output_type": "stream",
     "text": [
      "tensor([[1., 1., 1.],\n",
      "        [1., 1., 1.],\n",
      "        [1., 1., 1.]])\n",
      "tensor([[1., 1., 1.],\n",
      "        [1., 1., 1.],\n",
      "        [1., 1., 1.]])\n",
      "tensor([[1., 1., 1.],\n",
      "        [1., 1., 1.],\n",
      "        [1., 1., 1.]])\n"
     ]
    }
   ],
   "source": [
    "tensor_e = tensor_a * tensor_a # This is element-wise product\n",
    "print(tensor_e)\n",
    "tensor_f = tensor_a.mul(tensor_a) # This is element-wise product\n",
    "print(tensor_f)\n",
    "tensor_g = torch.rand_like(tensor_a) # Get the shape\n",
    "torch.mul(tensor_a, tensor_a, out=tensor_g) # This is element-wise product\n",
    "print(tensor_f)"
   ]
  }
 ],
 "metadata": {
  "kernelspec": {
   "display_name": "Python 3 (ipykernel)",
   "language": "python",
   "name": "python3"
  },
  "language_info": {
   "codemirror_mode": {
    "name": "ipython",
    "version": 3
   },
   "file_extension": ".py",
   "mimetype": "text/x-python",
   "name": "python",
   "nbconvert_exporter": "python",
   "pygments_lexer": "ipython3",
   "version": "3.9.16"
  }
 },
 "nbformat": 4,
 "nbformat_minor": 5
}
