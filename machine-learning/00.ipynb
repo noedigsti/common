{
 "cells": [
  {
   "cell_type": "code",
   "execution_count": 2,
   "metadata": {},
   "outputs": [],
   "source": [
    "import torch\n",
    "import tensorflow as tf\n",
    "import numpy as np"
   ]
  },
  {
   "attachments": {},
   "cell_type": "markdown",
   "metadata": {},
   "source": [
    "## Multiplication"
   ]
  },
  {
   "attachments": {},
   "cell_type": "markdown",
   "metadata": {},
   "source": [
    "#### Multiplying a tensor with a scalar"
   ]
  },
  {
   "cell_type": "code",
   "execution_count": 2,
   "metadata": {},
   "outputs": [
    {
     "name": "stdout",
     "output_type": "stream",
     "text": [
      "tf.Tensor(\n",
      "[[2. 4.]\n",
      " [6. 8.]], shape=(2, 2), dtype=float32)\n"
     ]
    }
   ],
   "source": [
    "# Tensorflow: mutiply a tensor with a scalar\n",
    "tensor = tf.constant(\n",
    "    [[1, 2], \n",
    "     [3, 4]], \n",
    "    dtype=tf.float32)\n",
    "scalar = tf.constant(2, dtype=tf.float32)\n",
    "print(tensor * scalar)"
   ]
  },
  {
   "cell_type": "code",
   "execution_count": 3,
   "metadata": {},
   "outputs": [
    {
     "name": "stdout",
     "output_type": "stream",
     "text": [
      "tensor([[2., 4.],\n",
      "        [6., 8.]])\n"
     ]
    }
   ],
   "source": [
    "# PyTorch: mutiply a tensor with a scalar \n",
    "tensor = torch.tensor(\n",
    "    [[1, 2], \n",
    "     [3, 4]], \n",
    "    dtype=torch.float32)\n",
    "scalar = torch.tensor(2, dtype=torch.float32)\n",
    "print(tensor * scalar)"
   ]
  },
  {
   "attachments": {},
   "cell_type": "markdown",
   "metadata": {},
   "source": [
    "#### Multiplying a tensor with a vector"
   ]
  },
  {
   "cell_type": "code",
   "execution_count": 19,
   "metadata": {},
   "outputs": [
    {
     "name": "stdout",
     "output_type": "stream",
     "text": [
      "(2, 2)   (2,)\n",
      "tf.Tensor(\n",
      "[[ 2.  6.]\n",
      " [ 6. 12.]], shape=(2, 2), dtype=float32)\n"
     ]
    }
   ],
   "source": [
    "# Tensorflow: mutiply a tensor with a vector\n",
    "tensor = tf.constant(\n",
    "    [[1, 2],\n",
    "        [3, 4]],\n",
    "    dtype=tf.float32)\n",
    "vector = tf.constant([2, 3], dtype=tf.float32)\n",
    "print(tensor.shape, \" \", vector.shape)\n",
    "print(tensor * vector)"
   ]
  },
  {
   "cell_type": "code",
   "execution_count": 9,
   "metadata": {},
   "outputs": [
    {
     "name": "stdout",
     "output_type": "stream",
     "text": [
      "torch.Size([3, 2])   torch.Size([2])\n",
      "tensor([[0.5000, 2.0000],\n",
      "        [1.5000, 4.0000],\n",
      "        [2.5000, 6.0000]])\n"
     ]
    }
   ],
   "source": [
    "# PyTorch: mutiply a tensor with a vector\n",
    "tensor = torch.tensor(\n",
    "    [[1, 2],\n",
    "        [3, 4],\n",
    "        [5, 6]],\n",
    "    dtype=torch.float32)\n",
    "vector = torch.tensor([0.5, 1], dtype=torch.float32)\n",
    "print(tensor.shape, \" \", vector.shape)\n",
    "print(tensor * vector)"
   ]
  },
  {
   "attachments": {},
   "cell_type": "markdown",
   "metadata": {},
   "source": [
    "#### Multiplying a tensor with a matrix"
   ]
  },
  {
   "cell_type": "code",
   "execution_count": 25,
   "metadata": {},
   "outputs": [
    {
     "name": "stdout",
     "output_type": "stream",
     "text": [
      "(2, 3, 3)   (3, 3)\n",
      "tf.Tensor(\n",
      "[[[ 2.  0.  3.]\n",
      "  [ 4. 10. 18.]\n",
      "  [ 0.  8. 18.]]\n",
      "\n",
      " [[20.  0. 12.]\n",
      "  [13. 28. 45.]\n",
      "  [ 0. 17. 36.]]], shape=(2, 3, 3), dtype=float32)\n"
     ]
    }
   ],
   "source": [
    "# Tensorflow: mutiply a tensor with a matrix\n",
    "tensor = tf.constant(\n",
    "    [\n",
    "        [\n",
    "            [1, 2, 3],\n",
    "            [4, 5, 6],\n",
    "            [7, 8, 9]\n",
    "        ],\n",
    "        [\n",
    "            [10, 11, 12],\n",
    "            [13, 14, 15],\n",
    "            [16, 17, 18]\n",
    "        ]\n",
    "    ],dtype=tf.float32)\n",
    "matrix = tf.constant(\n",
    "    [\n",
    "        [2, 0, 1],\n",
    "        [1, 2, 3],\n",
    "        [0, 1, 2]\n",
    "    ],\n",
    "    dtype=tf.float32\n",
    ")\n",
    "print(tensor.shape, \" \", matrix.shape)\n",
    "print(tensor * matrix)"
   ]
  },
  {
   "cell_type": "code",
   "execution_count": 26,
   "metadata": {},
   "outputs": [
    {
     "name": "stdout",
     "output_type": "stream",
     "text": [
      "torch.Size([2, 3, 3])   torch.Size([3, 3])\n",
      "tensor([[[ 2.,  0.,  3.],\n",
      "         [ 4., 10., 18.],\n",
      "         [ 0.,  8., 18.]],\n",
      "\n",
      "        [[20.,  0., 12.],\n",
      "         [13., 28., 45.],\n",
      "         [ 0., 17., 36.]]])\n"
     ]
    }
   ],
   "source": [
    "# PyTorch: mutiply a tensor with a matrix\n",
    "tensor = torch.tensor(\n",
    "    [\n",
    "        [\n",
    "            [1, 2, 3],\n",
    "            [4, 5, 6],\n",
    "            [7, 8, 9]\n",
    "        ],\n",
    "        [\n",
    "            [10, 11, 12],\n",
    "            [13, 14, 15],\n",
    "            [16, 17, 18]\n",
    "        ]\n",
    "    ],\n",
    "    dtype=torch.float32\n",
    ")\n",
    "matrix = torch.tensor(\n",
    "    [\n",
    "        [2, 0, 1],\n",
    "        [1, 2, 3],\n",
    "        [0, 1, 2]\n",
    "    ],\n",
    "    dtype=torch.float32\n",
    ")\n",
    "print(tensor.shape, \" \", matrix.shape)\n",
    "print(tensor * matrix)"
   ]
  },
  {
   "attachments": {},
   "cell_type": "markdown",
   "metadata": {},
   "source": [
    "#### Dot product"
   ]
  },
  {
   "attachments": {},
   "cell_type": "markdown",
   "metadata": {},
   "source": [
    "__Example analogy__: Matching people to projects\n",
    "\n",
    "Think of tensor1 as a group of people, with each row representing a person's skills. For instance, the person represented by the first row in tensor1 has skills valued at `[1, 2]`.\n",
    "\n",
    "Now, think of tensor2 as a list of projects, with each column representing the required skills for a project. For example, the project represented by the first column in tensor2 requires skills valued at `[5, 6]`.\n",
    "\n",
    "The matrix multiplication operation (torch.matmul) is like matching each person from tensor1 to each project in tensor2, and calculating a score that represents how well the person's skills fit the project's requirements.\n",
    "\n",
    "For the first person (with skills `[1, 2]`) and the first project (requiring skills `[5, 6]`), the match score is calculated as `(1x5) + (2x6)`, which equals `17`. This means that the first person's skills `[1, 2]` meet the first project's requirements `[5, 6]` with a score of `17`.\n",
    "\n",
    "We repeat this operation for every combination of people and projects, and end up with a new tensor that represents the match scores of each person (from tensor1) for each project (from tensor2). Therefore, torch.matmul(tensor1, tensor2) gives us an idea of how well the skills of each person match the requirements of each project, with higher scores indicating better matches."
   ]
  },
  {
   "cell_type": "code",
   "execution_count": 47,
   "metadata": {},
   "outputs": [
    {
     "name": "stdout",
     "output_type": "stream",
     "text": [
      "(2, 2)   (2, 2)\n",
      "tf.Tensor(\n",
      "[[17. 23.]\n",
      " [39. 53.]], shape=(2, 2), dtype=float32)\n"
     ]
    }
   ],
   "source": [
    "# Tensorflow: Dot product of two tensors\n",
    "tensor1 = tf.constant(\n",
    "    [\n",
    "        [1, 2],\n",
    "        [3, 4]\n",
    "    ], \n",
    "    dtype=tf.float32)\n",
    "tensor2 = tf.constant(\n",
    "    [\n",
    "        [5, 7],\n",
    "        [6, 8]\n",
    "    ],\n",
    "    dtype=tf.float32)\n",
    "print(tf.tensordot(tensor1, tensor2, axes=1))"
   ]
  },
  {
   "cell_type": "code",
   "execution_count": 48,
   "metadata": {},
   "outputs": [
    {
     "name": "stdout",
     "output_type": "stream",
     "text": [
      "torch.Size([2, 2])   torch.Size([2, 2])\n",
      "tensor([[17., 23.],\n",
      "        [39., 53.]])\n"
     ]
    }
   ],
   "source": [
    "# PyTorch: Dot product of two tensors\n",
    "tensor1 = torch.tensor(\n",
    "    [\n",
    "        [1, 2],\n",
    "        [3, 4]\n",
    "    ],\n",
    "    dtype=torch.float32\n",
    ")\n",
    "tensor2 = torch.tensor(\n",
    "    [\n",
    "        [5, 7],\n",
    "        [6, 8]\n",
    "    ],\n",
    "    dtype=torch.float32\n",
    ")\n",
    "# [1,2]   [5,7]   [1x5 + 2x6, 1x7 + 2x8]   [17, 23]\n",
    "# [3,4] . [6,8] = [3x5 + 4x6, 3x7 + 4x8] = [39, 53]\n",
    "print(torch.matmul(tensor1, tensor2))"
   ]
  },
  {
   "attachments": {},
   "cell_type": "markdown",
   "metadata": {},
   "source": [
    "#### Element-wise multiplication VS Dot product"
   ]
  },
  {
   "attachments": {},
   "cell_type": "markdown",
   "metadata": {},
   "source": [
    "__Element-wise multiplication analogy__:\n",
    "\n",
    "Let's say you're a farmer with three apple trees, and you're trying to predict your apple yield for next year. You know that the number of apples each tree produces depends on the amount of water and sunlight it gets.\n",
    "\n",
    "You represent the amount of water each tree got this year as a vector:\n",
    "```\n",
    "Water = [15, 20, 25]  # in gallons\n",
    "```\n",
    "And you do the same for sunlight:\n",
    "```\n",
    "Sunlight = [200, 250, 300]  # in hours\n",
    "```\n",
    "You know that each tree's apple yield is proportional to the product of the amount of water and sunlight it gets. So you can predict next year's yield for each tree using element-wise multiplication:\n",
    "```\n",
    "Yield = Water * Sunlight = [15*200, 20*250, 25*300] = [3000, 5000, 7500]  # in apples\n",
    "```\n",
    "Here, element-wise multiplication helped you make a simple model of how water and sunlight affect your apple yield."
   ]
  },
  {
   "attachments": {},
   "cell_type": "markdown",
   "metadata": {},
   "source": [
    "__Dot product analogy__:\n",
    "\n",
    "Suppose you're a game developer, and you're programming the behavior of an NPC (non-player character) who follows the player around in a 2D world. Let's say the NPC is at point A, and the player is at point B. You can represent the positions of A and B as 2D vectors:\n",
    "```\n",
    "A = [3, 2]\n",
    "B = [5, 4]\n",
    "```\n",
    "The difference vector, D, which points from A to B, can be calculated as B - A:\n",
    "```\n",
    "D = [5-3, 4-2] = [2, 2]\n",
    "```\n",
    "Now, let's say the NPC can only move in four cardinal directions: up, down, left, and right, represented as unit vectors:\n",
    "```\n",
    "Up = [0, 1]\n",
    "Down = [0, -1]\n",
    "Left = [-1, 0]\n",
    "Right = [1, 0]\n",
    "```\n",
    "You want to decide in which direction the NPC should move next to get closer to the player. This is where the dot product comes in. The dot product of D with each of the four directions will tell you how much D aligns with each direction:\n",
    "```\n",
    "Dot(D, Up) = 2*0 + 2*1 = 2\n",
    "Dot(D, Down) = 2*0 + 2*(-1) = -2\n",
    "Dot(D, Left) = 2*(-1) + 2*0 = -2\n",
    "Dot(D, Right) = 2*1 + 2*0 = 2\n",
    "```\n",
    "The direction with the highest dot product is the best direction for the NPC to move in. In this case, both Up and Right have the highest dot product (2), so the NPC should move either up or right to get closer to the player."
   ]
  },
  {
   "attachments": {},
   "cell_type": "markdown",
   "metadata": {},
   "source": [
    "### Addition"
   ]
  },
  {
   "cell_type": "code",
   "execution_count": 50,
   "metadata": {},
   "outputs": [
    {
     "name": "stdout",
     "output_type": "stream",
     "text": [
      "tf.Tensor(\n",
      "[[3. 4.]\n",
      " [5. 6.]], shape=(2, 2), dtype=float32)\n"
     ]
    }
   ],
   "source": [
    "# Tensorflow: Add a scalar to a tensor\n",
    "tensor = tf.constant(\n",
    "    [[1, 2],\n",
    "        [3, 4]],\n",
    "    dtype=tf.float32)\n",
    "scalar = tf.constant(2, dtype=tf.float32)\n",
    "print(tensor + scalar)"
   ]
  },
  {
   "cell_type": "code",
   "execution_count": 11,
   "metadata": {},
   "outputs": [
    {
     "name": "stdout",
     "output_type": "stream",
     "text": [
      "tensor([[3., 4.],\n",
      "        [5., 6.]])\n"
     ]
    }
   ],
   "source": [
    "# PyTorch: Add a scalar to a tensor\n",
    "tensor = torch.tensor(\n",
    "    [[1, 2],\n",
    "        [3, 4]],\n",
    "    dtype=torch.float32)\n",
    "scalar = torch.tensor(2, dtype=torch.float32)\n",
    "print(tensor + scalar)     "
   ]
  },
  {
   "cell_type": "code",
   "execution_count": 13,
   "metadata": {},
   "outputs": [
    {
     "name": "stdout",
     "output_type": "stream",
     "text": [
      "tf.Tensor(\n",
      "[[0.  1.5]\n",
      " [2.  3.5]], shape=(2, 2), dtype=float32)\n"
     ]
    }
   ],
   "source": [
    "# Tensorflow: Add a vector to a tensor\n",
    "tensor = tf.constant(\n",
    "    [[1, 2],\n",
    "        [3, 4]],\n",
    "    dtype=tf.float32)\n",
    "vector = tf.constant([-1, -.5], dtype=tf.float32)\n",
    "print(tensor + vector)"
   ]
  },
  {
   "attachments": {},
   "cell_type": "markdown",
   "metadata": {},
   "source": [
    "### Transpose"
   ]
  },
  {
   "cell_type": "code",
   "execution_count": 5,
   "metadata": {},
   "outputs": [
    {
     "data": {
      "text/plain": [
       "tensor([[[1., 2.],\n",
       "         [3., 4.]],\n",
       "\n",
       "        [[5., 6.],\n",
       "         [7., 8.]]])"
      ]
     },
     "execution_count": 5,
     "metadata": {},
     "output_type": "execute_result"
    }
   ],
   "source": [
    "# Define a tensor in PyTorch\n",
    "A = torch.tensor([\n",
    "    [\n",
    "        [1, 2],\n",
    "        [3, 4]\n",
    "    ],\n",
    "    [\n",
    "        [5, 6],\n",
    "        [7, 8]\n",
    "    ]\n",
    "    ], dtype=torch.float32)\n",
    "A"
   ]
  },
  {
   "cell_type": "code",
   "execution_count": 12,
   "metadata": {},
   "outputs": [
    {
     "data": {
      "text/plain": [
       "tensor([[[1., 2.],\n",
       "         [5., 6.]],\n",
       "\n",
       "        [[3., 4.],\n",
       "         [7., 8.]]])"
      ]
     },
     "execution_count": 12,
     "metadata": {},
     "output_type": "execute_result"
    }
   ],
   "source": [
    "# Transposed A\n",
    "A_t = torch.transpose(A, 0, 1)\n",
    "A_t"
   ]
  },
  {
   "cell_type": "code",
   "execution_count": 14,
   "metadata": {},
   "outputs": [
    {
     "data": {
      "text/plain": [
       "<tf.Tensor: shape=(2, 2, 2), dtype=float32, numpy=\n",
       "array([[[1., 2.],\n",
       "        [3., 4.]],\n",
       "\n",
       "       [[5., 6.],\n",
       "        [7., 8.]]], dtype=float32)>"
      ]
     },
     "execution_count": 14,
     "metadata": {},
     "output_type": "execute_result"
    }
   ],
   "source": [
    "# Define a tensor in TensorFlow\n",
    "B = tf.constant([\n",
    "    [\n",
    "        [1, 2],\n",
    "        [3, 4]\n",
    "    ],\n",
    "    [\n",
    "        [5, 6],\n",
    "        [7, 8]\n",
    "    ]\n",
    "    ], dtype=tf.float32)\n",
    "B"
   ]
  },
  {
   "cell_type": "code",
   "execution_count": 15,
   "metadata": {},
   "outputs": [
    {
     "data": {
      "text/plain": [
       "<tf.Tensor: shape=(2, 2, 2), dtype=float32, numpy=\n",
       "array([[[1., 2.],\n",
       "        [5., 6.]],\n",
       "\n",
       "       [[3., 4.],\n",
       "        [7., 8.]]], dtype=float32)>"
      ]
     },
     "execution_count": 15,
     "metadata": {},
     "output_type": "execute_result"
    }
   ],
   "source": [
    "# Transposed B\n",
    "B_t = tf.transpose(B, perm=[1, 0, 2])\n",
    "B_t"
   ]
  },
  {
   "attachments": {},
   "cell_type": "markdown",
   "metadata": {},
   "source": [
    "## Lp Norms"
   ]
  },
  {
   "attachments": {},
   "cell_type": "markdown",
   "metadata": {},
   "source": [
    "#### L1 Norm"
   ]
  },
  {
   "attachments": {},
   "cell_type": "markdown",
   "metadata": {},
   "source": [
    "```\n",
    "|x| + |y| ≤ 1\n",
    "```\n",
    "Example:\n",
    "```\n",
    "L1 norm = |3| + |4| = 7\n",
    "```"
   ]
  },
  {
   "attachments": {},
   "cell_type": "markdown",
   "metadata": {},
   "source": [
    "#### L2 Norm"
   ]
  },
  {
   "attachments": {},
   "cell_type": "markdown",
   "metadata": {},
   "source": [
    "```\n",
    "sqrt(x² + y²) ≤ 1\n",
    "```\n",
    "Example:\n",
    "```\n",
    "L2 norm = sqrt(3² + 4²) = 5\n",
    "```"
   ]
  },
  {
   "attachments": {},
   "cell_type": "markdown",
   "metadata": {},
   "source": [
    "#### Frobenuis Norm"
   ]
  },
  {
   "attachments": {},
   "cell_type": "markdown",
   "metadata": {},
   "source": [
    "measures the \"size\" of a matrix by adding up the squares of all its elements and then taking the square root.\n",
    "\n",
    "$||A||_F = sqrt(sum({A_{ij}}^2))$\n",
    "\n",
    "Example:\n",
    "Consider a 2x2 matrix A:\n",
    "```\n",
    "A = [ 1 2      3 4 ]\n",
    "```\n",
    "The Frobenius norm of this matrix would be calculated as follows:\n",
    "```\n",
    "||A||_F = sqrt((1)^2 + (2)^2 + (3)^2 + (4)^2)\n",
    "= sqrt(1 + 4 + 9 + 16)\n",
    "= sqrt(30)\n",
    "```"
   ]
  },
  {
   "attachments": {},
   "cell_type": "markdown",
   "metadata": {},
   "source": [
    "### Eigendecomposition"
   ]
  },
  {
   "attachments": {},
   "cell_type": "markdown",
   "metadata": {},
   "source": [
    "The eigendecomposition of a matrix is a type of decomposition that involves representing a square matrix as the product of its eigenvalues and eigenvectors. This is useful because eigenvalues and eigenvectors have many nice properties that make them easier to work with.\n",
    "\n",
    "The basic process of eigendecomposition involves two steps:\n",
    "\n",
    "1. Find the eigenvalues of the matrix.\n",
    "2. For each eigenvalue, find the corresponding eigenvectors.\n",
    "\n",
    "Let's solve this for the matrix A.\n",
    "\n",
    "**Step 1: Find the Eigenvalues**\n",
    "\n",
    "We first need to solve the characteristic equation, which is det(A - λI) = 0, where A is the matrix in question, λ are the eigenvalues, I is the identity matrix, and det is the determinant of a matrix.\n",
    "\n",
    "Our matrix A is:\n",
    "\n",
    "```\n",
    "A = [[4,1],[2,3]]\n",
    "```\n",
    "\n",
    "So, A - λI is:\n",
    "\n",
    "```\n",
    "A - λI = [[4 - λ, 1], [2, 3 - λ]]\n",
    "```\n",
    "\n",
    "Now, we take the determinant of this and set it equal to zero. The determinant of a 2x2 matrix [[a,b], [c,d]] is (a*d - b*c). So:\n",
    "\n",
    "```\n",
    "det(A - λI) = (4 - λ)*(3 - λ) - 2*1\n",
    "```\n",
    "\n",
    "Setting this equal to zero gives us a quadratic equation:\n",
    "\n",
    "```\n",
    "(4 - λ)*(3 - λ) - 2 = 0\n",
    "```\n",
    "\n",
    "which simplifies to\n",
    "\n",
    "```\n",
    "λ^2 - 7λ + 10 = 0\n",
    "```\n",
    "\n",
    "The solutions to this equation are the eigenvalues. Solving this quadratic equation (for example, by using the quadratic formula) gives us λ1 = 2, λ2 = 5.\n",
    "\n",
    "**Step 2: Find the Eigenvectors**\n",
    "\n",
    "Now that we have the eigenvalues, we need to find the corresponding eigenvectors. To do this, we substitute each eigenvalue back into the equation (A - λI)v = 0, and solve for v.\n",
    "\n",
    "1. For λ1 = 2, the matrix A - λI is:\n",
    "\n",
    "```\n",
    "A - λI = [[4 - 2, 1], [2, 3 - 2]] = [[2, 1], [2, 1]]\n",
    "```\n",
    "\n",
    "The eigenvectors are found by plugging the eigenvalues back into the equation (A - λI)v = 0 and finding a non-zero vector v that satisfies it.\n",
    "\n",
    "For λ₁ = 2, we solve:\n",
    "```\n",
    "[[4 - 2, 1], [2, 3 - 2]] [v₁, v₂] = 0\n",
    "=> [[2, 1], [2, 1]] [v₁, v₂] = 0\n",
    "```\n",
    "\n",
    "This gives us the eigenvector v₁ = [1, -2] (we find a vector that satisfies the equation, and often we will normalize it but in this case we'll keep it as is for simplicity).\n",
    "\n",
    "Similarly, for λ₂ = 5, we get the eigenvector v₂ = [1, 1].\n",
    "\n",
    "2. For λ2 = 5, the matrix A - λI is:\n",
    "\n",
    "```\n",
    "A - λI = [[4 - 5, 1], [2, 3 - 5]] = [[-1, 1], [2, -2]]\n",
    "```\n",
    "\n",
    "Setting this equal to zero gives us a system of linear equations:\n",
    "\n",
    "```\n",
    "-v1 + v2 = 0\n",
    "2*v1 - 2*v2 = 0\n",
    "```\n",
    "\n",
    "Again, these equations are equivalent, and we can take any non-zero solution, such as v = [1, 1]. This is the eigenvector corresponding to λ2 = 5.\n",
    "\n",
    "**Step 3: Formulate the Eigendecomposition**\n",
    "\n",
    "So we have the eigenvalues and corresponding eigenvectors, which are:\n",
    "\n",
    "```\n",
    "λ1 = 2, v1 = [1, -2]\n",
    "λ2 = 5, v2 = [1, 1]\n",
    "```\n",
    "\n",
    "We typically write the eigendecomposition of A as A = PDP^-1, where P is a matrix whose columns are the eigenvectors of A, D is a diagonal matrix whose entries are the eigenvalues of A, and P^-1 is the inverse of P.\n",
    "\n",
    "In this case, we have:\n",
    "\n",
    "```\n",
    "P = [v₁, v₂] = [[1, 1], [-2, 1]]\n",
    "D = [[λ₁, 0], [0, λ₂]] = [[2, 0], [0, 5]]\n",
    "P^-1 = P.inverse()\n",
    "```\n",
    "Where P is a matrix composed of the eigenvectors; D is a diagonal matrix composed of the eigenvalues; and P^-1 is the inverse of P.\n",
    "\n",
    "So the eigendecomposition of A is given by $A = PDP^{-1}$."
   ]
  },
  {
   "attachments": {},
   "cell_type": "markdown",
   "metadata": {},
   "source": [
    "In return, from $PDP^{-1}$ we can get A\n",
    "\n",
    "Given:\n",
    "```\n",
    "P = [[1, 1], [-2, 1]]\n",
    "D = [[2, 0], [0, 5]]\n",
    "```\n",
    "and we have previously computed P^-1 to be:\n",
    "```\n",
    "P^-1 = [[1/3, -1/3], [2/3, 1/3]]\n",
    "```\n",
    "\n",
    "The calculation of PDP^-1 involves a series of matrix multiplications. Let's compute that again:\n",
    "\n",
    "First, we compute PD:\n",
    "```\n",
    "PD = P * D\n",
    "= [[1, 1], [-2, 1]] * [[2, 0], [0, 5]]\n",
    "= [[12 + 10, 10 + 15], [-22 + 10, -20 + 15]]\n",
    "= [[2, 5], [-4, 5]]\n",
    "```\n",
    "\n",
    "Next, we compute PDP^-1:\n",
    "```\n",
    "PDP^-1 = PD * P^-1\n",
    "= [[2, 5], [-4, 5]] * [[1/3, -1/3], [2/3, 1/3]]\n",
    "= [[21/3 + 52/3, 2*(-1/3) + 51/3], [-41/3 + 52/3, -4(-1/3) + 5*1/3]]\n",
    "= [[4, 1], [2, 3]]\n",
    "```"
   ]
  }
 ],
 "metadata": {
  "kernelspec": {
   "display_name": "fran_env",
   "language": "python",
   "name": "python3"
  },
  "language_info": {
   "codemirror_mode": {
    "name": "ipython",
    "version": 3
   },
   "file_extension": ".py",
   "mimetype": "text/x-python",
   "name": "python",
   "nbconvert_exporter": "python",
   "pygments_lexer": "ipython3",
   "version": "3.9.16"
  },
  "orig_nbformat": 4
 },
 "nbformat": 4,
 "nbformat_minor": 2
}
